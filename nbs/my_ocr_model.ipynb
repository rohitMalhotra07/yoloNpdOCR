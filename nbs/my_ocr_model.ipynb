{
 "cells": [
  {
   "cell_type": "markdown",
   "id": "9bfe1e2d-1754-4f7e-bf8a-286c804fca23",
   "metadata": {},
   "source": [
    "# Define Model"
   ]
  },
  {
   "cell_type": "code",
   "execution_count": null,
   "id": "a66bcecf-de61-493c-9ad4-8af29cfca0ab",
   "metadata": {},
   "outputs": [],
   "source": [
    "#| default_exp my_yolo_ocr"
   ]
  },
  {
   "cell_type": "code",
   "execution_count": null,
   "id": "17360539-21e7-442e-bf93-f143b7b442d5",
   "metadata": {},
   "outputs": [],
   "source": [
    "#| exports\n",
    "import torch"
   ]
  },
  {
   "cell_type": "code",
   "execution_count": null,
   "id": "b4d465c3-688b-47ed-b69d-6119f59cab46",
   "metadata": {},
   "outputs": [],
   "source": []
  },
  {
   "cell_type": "code",
   "execution_count": null,
   "id": "cc794b3e-98a3-455f-adfe-225275aae54f",
   "metadata": {},
   "outputs": [],
   "source": [
    "#| exports\n",
    "class MyYoloOCR:\n",
    "    \"\"\"\n",
    "    Class to load fine tuned model weights to yolov5 and get number plate text\n",
    "    \"\"\"\n",
    "\n",
    "    def __init__(self, weights_file_location=\"weights/best_150_epochs.pt\"):\n",
    "\n",
    "        self.wfl = weights_file_location\n",
    "\n",
    "        self.model = torch.hub.load(\n",
    "            \"ultralytics/yolov5\", \"custom\", path=self.wfl, force_reload=True\n",
    "        )  # yolov5s\n",
    "\n",
    "        self.class_id_map = self.model.names\n",
    "\n",
    "    def get_number_plate_text(self, img_path: str, show_result: bool = False) -> str:\n",
    "        result = self.model(img_path)  # Get result\n",
    "\n",
    "        if show_result:\n",
    "            result.show()\n",
    "\n",
    "        # Get x y h w prob and class id\n",
    "        result_arr = result.xywhn[0].cpu().numpy().tolist()\n",
    "        number_bboxs = len(result_arr)\n",
    "        # print(number_bboxs)\n",
    "\n",
    "        # Sort result according to x\n",
    "        result_arr = sorted(result_arr, key=lambda x: x[0])\n",
    "\n",
    "        # Get class ids and filter out 'EUR'->16 and '-' -> 0\n",
    "        class_ids = [int(x[-1]) for x in result_arr if int(x[-1]) not in [0, 16]]\n",
    "\n",
    "        # # Get class ids and filter out 'EUR'->16\n",
    "        # class_ids = [int(x[-1]) for x in result_arr if int(x[-1]) not in [16]]\n",
    "\n",
    "        # Get class from ids\n",
    "\n",
    "        classes = [self.class_id_map[x] for x in class_ids]\n",
    "\n",
    "        # Make text\n",
    "        ocr_text = \"\".join(classes)\n",
    "\n",
    "        return ocr_text"
   ]
  }
 ],
 "metadata": {
  "kernelspec": {
   "display_name": "python3",
   "language": "python",
   "name": "python3"
  }
 },
 "nbformat": 4,
 "nbformat_minor": 5
}
