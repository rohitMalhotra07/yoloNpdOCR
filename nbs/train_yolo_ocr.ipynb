{
 "cells": [
  {
   "cell_type": "markdown",
   "id": "b51345c8-fb49-4844-bbec-e0ba8ec54ae0",
   "metadata": {},
   "source": [
    "# Training yolo ocr\n",
    "> Training / finetuning Ultralytics yolov5 on custom data to do number plate detection"
   ]
  },
  {
   "cell_type": "code",
   "execution_count": null,
   "id": "cefe615b-cccb-484a-97e6-3a9b188a1b8e",
   "metadata": {},
   "outputs": [],
   "source": [
    "import torch\n",
    "\n",
    "from yoloNpdOCR.config import Config"
   ]
  },
  {
   "cell_type": "code",
   "execution_count": null,
   "id": "8e400bbd-a981-42ed-841b-9fc4f869fee7",
   "metadata": {},
   "outputs": [],
   "source": []
  },
  {
   "cell_type": "code",
   "execution_count": null,
   "id": "a352271f-2611-4300-8b74-84878329189b",
   "metadata": {},
   "outputs": [
    {
     "name": "stdout",
     "output_type": "stream",
     "text": [
      "Setup complete. Using torch 2.3.0+cu121 (NVIDIA GeForce RTX 3090)\n"
     ]
    }
   ],
   "source": [
    "print(\n",
    "    f\"Setup complete. Using torch {torch.__version__} ({torch.cuda.get_device_properties(0).name if torch.cuda.is_available() else 'CPU'})\"\n",
    ")"
   ]
  },
  {
   "cell_type": "code",
   "execution_count": null,
   "id": "f789e620-9da9-41f2-a122-0c75ee1f0b0c",
   "metadata": {},
   "outputs": [
    {
     "data": {
      "text/plain": [
       "True"
      ]
     },
     "execution_count": null,
     "metadata": {},
     "output_type": "execute_result"
    }
   ],
   "source": [
    "torch.cuda.is_available()"
   ]
  },
  {
   "cell_type": "code",
   "execution_count": null,
   "id": "c48f1aa0-32e8-4549-8dd0-594bf9974b2a",
   "metadata": {},
   "outputs": [
    {
     "name": "stdout",
     "output_type": "stream",
     "text": [
      "/home/rohit/Desktop/rohit/learnings/yolo/yoloNpdOCR/yolov5\n"
     ]
    },
    {
     "name": "stderr",
     "output_type": "stream",
     "text": [
      "/home/rohit/Desktop/rohit/virtualenvs/rohit_transformers/lib/python3.10/site-packages/IPython/core/magics/osm.py:417: UserWarning: This is now an optional IPython functionality, setting dhist requires you to install the `pickleshare` library.\n",
      "  self.shell.db['dhist'] = compress_dhist(dhist)[-100:]\n"
     ]
    }
   ],
   "source": [
    "%cd ../yolov5/"
   ]
  },
  {
   "cell_type": "code",
   "execution_count": null,
   "id": "6658b52a-5272-4c7b-88bb-152c6e0e0807",
   "metadata": {},
   "outputs": [],
   "source": []
  },
  {
   "cell_type": "code",
   "execution_count": null,
   "id": "0f851976-d312-42de-9d19-7c6c6230881c",
   "metadata": {},
   "outputs": [],
   "source": [
    "cnfg = Config()"
   ]
  },
  {
   "cell_type": "code",
   "execution_count": null,
   "id": "8800cc7e-df0d-4ab8-b9d4-ee40f3ce232f",
   "metadata": {},
   "outputs": [],
   "source": [
    "!python train.py --cfg {cnfg.CFG} \\\n",
    "                 --imgsz {cnfg.IMG_SIZE} \\\n",
    "                 --batch-size {cnfg.BATCH_SIZE} \\\n",
    "                 --epochs {cnfg.EPOCHS} \\\n",
    "                 --data {cnfg.DATA_FILE} \\\n",
    "                 --seed {cnfg.SEED} \\\n",
    "                 --save-period {cnfg.SAVE_PERIOD} \\\n",
    "                 --project {cnfg.LOGGING_PROJECT} \\\n",
    "                 --name {cnfg.EXPERIMENT_NAME} \\\n",
    "                 --device {cnfg.device}"
   ]
  },
  {
   "cell_type": "code",
   "execution_count": null,
   "id": "68bba34d-80f2-4fed-96d2-a20cdf8dc908",
   "metadata": {},
   "outputs": [
    {
     "name": "stdout",
     "output_type": "stream",
     "text": [
      "Done!\n"
     ]
    }
   ],
   "source": [
    "print(\"Done!\")"
   ]
  },
  {
   "cell_type": "code",
   "execution_count": null,
   "id": "ead5bdbb-2631-4d6a-9b6f-894c330cd1b5",
   "metadata": {},
   "outputs": [],
   "source": []
  },
  {
   "cell_type": "code",
   "execution_count": null,
   "id": "552cbcb7-0303-4fbf-9cc5-1fea1da59dff",
   "metadata": {},
   "outputs": [],
   "source": []
  },
  {
   "cell_type": "code",
   "execution_count": null,
   "id": "5bad04bc-dd71-40a3-8473-544374c92997",
   "metadata": {},
   "outputs": [],
   "source": []
  }
 ],
 "metadata": {
  "kernelspec": {
   "display_name": "python3",
   "language": "python",
   "name": "python3"
  }
 },
 "nbformat": 4,
 "nbformat_minor": 5
}
