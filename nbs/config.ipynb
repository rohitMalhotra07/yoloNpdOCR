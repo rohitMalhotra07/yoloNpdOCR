{
 "cells": [
  {
   "cell_type": "markdown",
   "id": "21e8f0cd-4607-4dcf-9d67-e331638c1b87",
   "metadata": {},
   "source": [
    "# Config file"
   ]
  },
  {
   "cell_type": "code",
   "execution_count": null,
   "id": "ebde2097-c3fd-41e4-8597-554355a69a8d",
   "metadata": {},
   "outputs": [],
   "source": [
    "#| default_exp config"
   ]
  },
  {
   "cell_type": "code",
   "execution_count": null,
   "id": "e5908d42-a71a-4dcd-a965-e34ccf76a49d",
   "metadata": {},
   "outputs": [],
   "source": []
  },
  {
   "cell_type": "code",
   "execution_count": null,
   "id": "cde52012-06a5-4e2d-9bc8-88347aa41387",
   "metadata": {},
   "outputs": [],
   "source": [
    "#| exports\n",
    "class Config:\n",
    "    base_data_path = \"../data/np_char_datasets/\"\n",
    "\n",
    "    test_data_path = \"../data/eu-license-plates/eu/de/\"\n",
    "\n",
    "    IMG_SIZE = 640  # Input image size.\n",
    "    BATCH_SIZE = 64  # Batch size\n",
    "    EPOCHS = 150  # Number of epochs\n",
    "    DATA_FILE = \"../data/yolov5_pytorch/data.yaml\"  # Configuration file\n",
    "    # MODEL_NAME = 'yolov5s' # Model name\n",
    "    SAVE_PERIOD = -1  # Save model after interval\n",
    "    LOGGING_PROJECT = \"np_char_ocr\"  # Clearml project name also directory name in which project will be saved. If clearml name exists then ok else it creates on its own.\n",
    "    EXPERIMENT_NAME = f\"train_run1_{EPOCHS}_epochs\"\n",
    "    SEED = 42\n",
    "    CFG = \"./models/yolov5s.yaml\"\n",
    "    device = 0  # cuda device, i.e. 0 or 0,1,2,3 or cpu\n",
    "\n",
    "    weights_path = f\"../yolov5/{LOGGING_PROJECT}/{EXPERIMENT_NAME}/weights/best.pt\""
   ]
  }
 ],
 "metadata": {
  "kernelspec": {
   "display_name": "python3",
   "language": "python",
   "name": "python3"
  }
 },
 "nbformat": 4,
 "nbformat_minor": 5
}
